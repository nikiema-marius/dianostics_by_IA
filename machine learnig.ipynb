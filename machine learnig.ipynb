{
 "cells": [
  {
   "cell_type": "markdown",
   "id": "5dd73071",
   "metadata": {},
   "source": [
    "# il s'agit de faire du machine learnig avec les donné insurance"
   ]
  },
  {
   "cell_type": "code",
   "execution_count": 101,
   "id": "aca69651",
   "metadata": {},
   "outputs": [
    {
     "data": {
      "text/html": [
       "<div>\n",
       "<style scoped>\n",
       "    .dataframe tbody tr th:only-of-type {\n",
       "        vertical-align: middle;\n",
       "    }\n",
       "\n",
       "    .dataframe tbody tr th {\n",
       "        vertical-align: top;\n",
       "    }\n",
       "\n",
       "    .dataframe thead th {\n",
       "        text-align: right;\n",
       "    }\n",
       "</style>\n",
       "<table border=\"1\" class=\"dataframe\">\n",
       "  <thead>\n",
       "    <tr style=\"text-align: right;\">\n",
       "      <th></th>\n",
       "      <th>age</th>\n",
       "      <th>sex</th>\n",
       "      <th>bmi</th>\n",
       "      <th>children</th>\n",
       "      <th>smoker</th>\n",
       "      <th>region</th>\n",
       "      <th>charges</th>\n",
       "    </tr>\n",
       "  </thead>\n",
       "  <tbody>\n",
       "    <tr>\n",
       "      <th>0</th>\n",
       "      <td>19</td>\n",
       "      <td>0</td>\n",
       "      <td>27.900</td>\n",
       "      <td>0</td>\n",
       "      <td>1</td>\n",
       "      <td>3</td>\n",
       "      <td>16884.92400</td>\n",
       "    </tr>\n",
       "    <tr>\n",
       "      <th>1</th>\n",
       "      <td>18</td>\n",
       "      <td>1</td>\n",
       "      <td>33.770</td>\n",
       "      <td>1</td>\n",
       "      <td>0</td>\n",
       "      <td>2</td>\n",
       "      <td>1725.55230</td>\n",
       "    </tr>\n",
       "    <tr>\n",
       "      <th>2</th>\n",
       "      <td>28</td>\n",
       "      <td>1</td>\n",
       "      <td>33.000</td>\n",
       "      <td>3</td>\n",
       "      <td>0</td>\n",
       "      <td>2</td>\n",
       "      <td>4449.46200</td>\n",
       "    </tr>\n",
       "    <tr>\n",
       "      <th>3</th>\n",
       "      <td>33</td>\n",
       "      <td>1</td>\n",
       "      <td>22.705</td>\n",
       "      <td>0</td>\n",
       "      <td>0</td>\n",
       "      <td>1</td>\n",
       "      <td>21984.47061</td>\n",
       "    </tr>\n",
       "    <tr>\n",
       "      <th>4</th>\n",
       "      <td>32</td>\n",
       "      <td>1</td>\n",
       "      <td>28.880</td>\n",
       "      <td>0</td>\n",
       "      <td>0</td>\n",
       "      <td>1</td>\n",
       "      <td>3866.85520</td>\n",
       "    </tr>\n",
       "  </tbody>\n",
       "</table>\n",
       "</div>"
      ],
      "text/plain": [
       "   age  sex     bmi  children  smoker  region      charges\n",
       "0   19    0  27.900         0       1       3  16884.92400\n",
       "1   18    1  33.770         1       0       2   1725.55230\n",
       "2   28    1  33.000         3       0       2   4449.46200\n",
       "3   33    1  22.705         0       0       1  21984.47061\n",
       "4   32    1  28.880         0       0       1   3866.85520"
      ]
     },
     "execution_count": 101,
     "metadata": {},
     "output_type": "execute_result"
    }
   ],
   "source": [
    "import pandas as pd\n",
    "import numpy as np\n",
    "from sklearn import preprocessing\n",
    "labelencoder = preprocessing.LabelEncoder()\n",
    "\n",
    "data = pd.read_csv(\"insurance.csv\")\n",
    "data.drop_duplicates(inplace=True)\n",
    "data[\"sex\"] = labelencoder.fit_transform(data[\"sex\"])\n",
    "data[\"smoker\"] = labelencoder.fit_transform(data[\"smoker\"])\n",
    "data[\"region\"] = labelencoder.fit_transform(data[\"region\"])\n",
    "data.head()"
   ]
  },
  {
   "cell_type": "code",
   "execution_count": 102,
   "id": "02f93f40",
   "metadata": {},
   "outputs": [],
   "source": [
    "#selection des donnés d'entré de notre model\n",
    "x = data[[\"age\",\"sex\",\"bmi\", \"children\",\"smoker\",\"region\"]]\n",
    "y = data[\"charges\"]"
   ]
  },
  {
   "cell_type": "code",
   "execution_count": 103,
   "id": "16fb71b4",
   "metadata": {},
   "outputs": [],
   "source": [
    "# decoupage des donnes en donné de test , et de test\n",
    "\n",
    "from sklearn.model_selection import train_test_split\n",
    "x_train, x_test, y_train, y_test = train_test_split(x,y, test_size = 0.30) \n",
    "#30% de donné sont pour les tests"
   ]
  },
  {
   "cell_type": "code",
   "execution_count": 104,
   "id": "1be677b9",
   "metadata": {},
   "outputs": [],
   "source": [
    "from sklearn.preprocessing import StandardScaler\n",
    "scaler = StandardScaler()\n",
    "scaled_x_train = scaler.fit_transform(x_train)\n",
    "scaled_x_test = scaler.fit_transform(x_test)"
   ]
  },
  {
   "cell_type": "code",
   "execution_count": 105,
   "id": "cee69a41",
   "metadata": {},
   "outputs": [],
   "source": [
    "#une fonction dont on passer une prediction en parametre cette prediction entrain not test et elle nous retoutne les erreurs\n",
    "from sklearn.metrics import mean_absolute_error, mean_squared_error\n",
    "def modelresults(predictions):\n",
    "    print(\"Mean absolute error on model is {}\",format(mean_absolute_error(y_test,predictions)))\n",
    "    print(\"Root mean squared error on model is {}\",format(np.sqrt(mean_squared_error(y_test,predictions))))"
   ]
  },
  {
   "cell_type": "code",
   "execution_count": 106,
   "id": "9a5c82c2",
   "metadata": {},
   "outputs": [
    {
     "data": {
      "text/plain": [
       "LinearRegression()"
      ]
     },
     "execution_count": 106,
     "metadata": {},
     "output_type": "execute_result"
    }
   ],
   "source": [
    "#implemetation de regression lineaire \n",
    "\n",
    "from sklearn.linear_model import LinearRegression\n",
    "lr = LinearRegression()\n",
    "lr.fit(scaled_x_train, y_train)"
   ]
  },
  {
   "cell_type": "code",
   "execution_count": 107,
   "id": "c7ac2759",
   "metadata": {},
   "outputs": [
    {
     "name": "stdout",
     "output_type": "stream",
     "text": [
      "Mean absolute error on model is {} 3924.4594656159734\n",
      "Root mean squared error on model is {} 5672.614923468978\n"
     ]
    }
   ],
   "source": [
    "predslr = lr.predict(scaled_x_test)\n",
    "modelresults(predslr)"
   ]
  },
  {
   "cell_type": "code",
   "execution_count": 108,
   "id": "0c425e26",
   "metadata": {},
   "outputs": [
    {
     "name": "stdout",
     "output_type": "stream",
     "text": [
      "Meillieur parametre pour le model {'C': 1, 'degree': 2, 'gamma': 'auto', 'kernel': 'linear'}\n"
     ]
    },
    {
     "name": "stderr",
     "output_type": "stream",
     "text": [
      "C:\\Users\\mario niki\\Documents\\anaconda3\\lib\\site-packages\\sklearn\\model_selection\\_validation.py:372: FitFailedWarning: \n",
      "300 fits failed out of a total of 600.\n",
      "The score on these train-test partitions for these parameters will be set to nan.\n",
      "If these failures are not expected, you can try to debug them by setting error_score='raise'.\n",
      "\n",
      "Below are more details about the failures:\n",
      "--------------------------------------------------------------------------------\n",
      "300 fits failed with the following error:\n",
      "Traceback (most recent call last):\n",
      "  File \"C:\\Users\\mario niki\\Documents\\anaconda3\\lib\\site-packages\\sklearn\\model_selection\\_validation.py\", line 680, in _fit_and_score\n",
      "    estimator.fit(X_train, y_train, **fit_params)\n",
      "  File \"C:\\Users\\mario niki\\Documents\\anaconda3\\lib\\site-packages\\sklearn\\svm\\_base.py\", line 243, in fit\n",
      "    raise ValueError(\n",
      "ValueError: When 'gamma' is a string, it should be either 'scale' or 'auto'. Got 'sacle' instead.\n",
      "\n",
      "  warnings.warn(some_fits_failed_message, FitFailedWarning)\n",
      "C:\\Users\\mario niki\\Documents\\anaconda3\\lib\\site-packages\\sklearn\\model_selection\\_search.py:969: UserWarning: One or more of the test scores are non-finite: [        nan         nan         nan -0.10919428 -0.1092544  -0.10925466\n",
      "         nan         nan         nan -0.10919428 -0.1092544  -0.1092511\n",
      "         nan         nan         nan -0.10919428 -0.1092544  -0.10925349\n",
      "         nan         nan         nan -0.10919428 -0.1092544  -0.10925033\n",
      "         nan         nan         nan -0.10861873 -0.10921978 -0.1092224\n",
      "         nan         nan         nan -0.10861873 -0.10921978 -0.10918675\n",
      "         nan         nan         nan -0.10861873 -0.10921978 -0.1092107\n",
      "         nan         nan         nan -0.10861873 -0.10921978 -0.10917905\n",
      "         nan         nan         nan -0.10285765 -0.1088737  -0.10889984\n",
      "         nan         nan         nan -0.10285765 -0.1088737  -0.10854343\n",
      "         nan         nan         nan -0.10285765 -0.1088737  -0.10878285\n",
      "         nan         nan         nan -0.10285765 -0.1088737  -0.10846656\n",
      "         nan         nan         nan -0.07707565 -0.10733738 -0.10747153\n",
      "         nan         nan         nan -0.07707565 -0.10733738 -0.10568798\n",
      "         nan         nan         nan -0.07707565 -0.10733738 -0.10689837\n",
      "         nan         nan         nan -0.07707565 -0.10733738 -0.10519066\n",
      "         nan         nan         nan -0.04503815 -0.10542123 -0.10573442\n",
      "         nan         nan         nan -0.04503815 -0.10542123 -0.1021284\n",
      "         nan         nan         nan -0.04503815 -0.10542123 -0.10451133\n",
      "         nan         nan         nan -0.04503815 -0.10542123 -0.10127179]\n",
      "  warnings.warn(\n"
     ]
    }
   ],
   "source": [
    "from sklearn.svm import SVR\n",
    "from sklearn.model_selection import GridSearchCV\n",
    "svrmodel = SVR()\n",
    "param_gridsvr = {'C':[0.001,0.01,0.1,0.5,1], 'kernel':['linear','rbf','poly'],'gamma':[\"sacle\",'auto'],'degree':[2,3,4,5]}\n",
    "gridsvr = GridSearchCV(svrmodel,param_gridsvr)\n",
    "gridsvr.fit(scaled_x_train,y_train)\n",
    "print(\"Meillieur parametre pour le model {}\".format(gridsvr.best_params_))"
   ]
  },
  {
   "cell_type": "code",
   "execution_count": 109,
   "id": "eaf5940d",
   "metadata": {},
   "outputs": [
    {
     "name": "stdout",
     "output_type": "stream",
     "text": [
      "Mean absolute error on model is {} 7762.713081482513\n",
      "Root mean squared error on model is {} 12222.730436339834\n"
     ]
    }
   ],
   "source": [
    "predsgridsvr = gridsvr.predict(scaled_x_test)\n",
    "modelresults(predsgridsvr)"
   ]
  },
  {
   "cell_type": "code",
   "execution_count": 110,
   "id": "93a486a5",
   "metadata": {},
   "outputs": [
    {
     "name": "stdout",
     "output_type": "stream",
     "text": [
      "Mean absolute error on model is {} 7762.713081482513\n",
      "Root mean squared error on model is {} 12222.730436339834\n"
     ]
    }
   ],
   "source": [
    "predsgridrfr = gridsvr.predict(scaled_x_test)\n",
    "modelresults(predsgridsvr)"
   ]
  },
  {
   "cell_type": "code",
   "execution_count": 111,
   "id": "bdfec501",
   "metadata": {},
   "outputs": [
    {
     "data": {
      "text/plain": [
       "Index(['age', 'sex', 'bmi', 'children', 'smoker', 'region'], dtype='object')"
      ]
     },
     "execution_count": 111,
     "metadata": {},
     "output_type": "execute_result"
    }
   ],
   "source": [
    "x.columns"
   ]
  },
  {
   "cell_type": "code",
   "execution_count": 114,
   "id": "35d87cfc",
   "metadata": {},
   "outputs": [
    {
     "name": "stdout",
     "output_type": "stream",
     "text": [
      "the mean of the column 1 is 39.222139117427076\n",
      "the mean of the column 2 is 0.5048616305160808\n",
      "the mean of the column 3 is 30.663451757666405\n",
      "the mean of the column 4 is 1.0957367240089753\n",
      "the mean of the column 5 is 0.2049364248317128\n",
      "the mean of the column 6 is 1.5160807778608825\n"
     ]
    }
   ],
   "source": [
    "columniterate = 1\n",
    "for index in x.columns:\n",
    "    mean = data[index].mean()\n",
    "    print(\"the mean of the column {} is {}\".format(columniterate,mean))\n",
    "    columniterate += 1"
   ]
  },
  {
   "cell_type": "code",
   "execution_count": 115,
   "id": "036a01cb",
   "metadata": {},
   "outputs": [],
   "source": [
    "newcustomer = np.array([39,0,30,1,0,1])"
   ]
  },
  {
   "cell_type": "code",
   "execution_count": 118,
   "id": "56c8d66c",
   "metadata": {
    "scrolled": true
   },
   "outputs": [
    {
     "data": {
      "text/plain": [
       "array([29068.79280586])"
      ]
     },
     "execution_count": 118,
     "metadata": {},
     "output_type": "execute_result"
    }
   ],
   "source": [
    "gridsvr.predict(newcustimer.reshape(1,-1))"
   ]
  }
 ],
 "metadata": {
  "kernelspec": {
   "display_name": "Python 3 (ipykernel)",
   "language": "python",
   "name": "python3"
  },
  "language_info": {
   "codemirror_mode": {
    "name": "ipython",
    "version": 3
   },
   "file_extension": ".py",
   "mimetype": "text/x-python",
   "name": "python",
   "nbconvert_exporter": "python",
   "pygments_lexer": "ipython3",
   "version": "3.9.13"
  }
 },
 "nbformat": 4,
 "nbformat_minor": 5
}
